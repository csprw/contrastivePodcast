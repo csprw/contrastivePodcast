{
 "cells": [
  {
   "cell_type": "markdown",
   "id": "e400e84f",
   "metadata": {},
   "source": [
    "# Summary plots\n",
    "This notebooks reads all json files of the evaluations, and outputs plots for them. "
   ]
  },
  {
   "cell_type": "code",
   "execution_count": null,
   "id": "3518bdbb",
   "metadata": {},
   "outputs": [],
   "source": [
    "# Load all modules\n",
    "import seaborn as sn\n",
    "import matplotlib.pyplot as plt\n",
    "import pandas as pd\n",
    "import numpy as np\n",
    "import json\n",
    "from pathlib import Path\n",
    "import os\n"
   ]
  },
  {
   "cell_type": "code",
   "execution_count": 2,
   "id": "57745d37",
   "metadata": {},
   "outputs": [],
   "source": [
    "\n",
    "def get_summary_results(model_name, level='sent'):\n",
    "    \"\"\"\n",
    "    Reads summary infomration dict from log folder. \n",
    "    Inputs:\n",
    "        model_name: name of the log\n",
    "        level: either 'sent' (use each sentence seperately) or 'full' (use all\n",
    "        sentences at once).\n",
    "    Output:\n",
    "        results: dict containing summary eval results. \n",
    "    \"\"\"\n",
    "    if level == 'sent':\n",
    "        summary_result_path = os.path.join(\"../logs\", model_name, \"summary_results_sent.json\")\n",
    "    else:\n",
    "        summary_result_path = os.path.join(\"../logs\", model_name, \"summary_results_full.json\")\n",
    "    with open(summary_result_path, 'r') as JSON:\n",
    "        results = json.load(JSON)\n",
    "    return results\n",
    "\n",
    "model_5 = '5m-mlp_2022-07-21_07-57-47'\n",
    "model_15 = '15m-mlp_2022-07-05_10-52-12'\n",
    "model_25 = '25m-mlp_2022-07-05_10-54-42'\n",
    "\n",
    "results_5 = get_summary_results(model_5)\n",
    "results_15 = get_summary_results(model_15)\n",
    "results_25 = get_summary_results(model_25)\n"
   ]
  },
  {
   "cell_type": "markdown",
   "id": "b079d74d",
   "metadata": {},
   "source": [
    "### Load baseline results"
   ]
  },
  {
   "cell_type": "code",
   "execution_count": 3,
   "id": "59bd99b4",
   "metadata": {},
   "outputs": [
    {
     "name": "stdout",
     "output_type": "stream",
     "text": [
      "0.05236292119898051\n"
     ]
    }
   ],
   "source": [
    "model_baseline = 'random_model'\n",
    "results_baseline = get_summary_results(model_baseline)\n",
    "baseline = np.mean([mrr for mrr in results_baseline['mrrs']])\n",
    "print(baseline)"
   ]
  },
  {
   "cell_type": "markdown",
   "id": "d015f467",
   "metadata": {},
   "source": [
    "### Create BM25 oracle"
   ]
  },
  {
   "cell_type": "code",
   "execution_count": 4,
   "id": "c9f2f1e5",
   "metadata": {},
   "outputs": [],
   "source": [
    "import torch\n",
    "from torch import nn, Tensor\n",
    "from torch.utils import data as datautil\n",
    "from torch.utils.data import Sampler, BatchSampler, DataLoader\n",
    "import torch.nn.functional as F\n",
    "from torch.optim import Optimizer\n",
    "from torch.nn.utils.rnn import pad_sequence, pad_packed_sequence, pack_padded_sequence\n",
    "from dacite import from_dict\n",
    "\n",
    "import sys\n",
    "sys.path.append('../') \n",
    "from train import mmModule, multimodal_loss, Cfg\n",
    "from utils import read_metadata_subset, find_paths, relative_file_path, randomize_model\n",
    "from evaluate_summary import MMloader_summary, summaryEvaluator, get_summ_audio, get_summ_sent_audio\n",
    "\n",
    "from rank_bm25 import BM25Okapi\n",
    "from utils import preprocess\n",
    "\n",
    "from omegaconf import OmegaConf\n",
    "conf = OmegaConf.load(\"../config.yaml\")"
   ]
  },
  {
   "cell_type": "code",
   "execution_count": 5,
   "id": "4ce11ae9",
   "metadata": {},
   "outputs": [],
   "source": [
    "# Rename configurations used, since they are one folder up.\n",
    "conf.dataset_path = os.path.join(\"../\", conf.dataset_path)\n",
    "conf.sp_path = os.path.join(\"../\", conf.sp_path)\n",
    "conf.yamnet_processed_path = os.path.join(\"../\", conf.yamnet_processed_path)\n",
    "conf.summary_embed_dir = os.path.join(\"../\", conf.summary_embed_dir)\n",
    "conf.sent_summary_embed_dir = os.path.join(\"../\", conf.sent_summary_embed_dir)"
   ]
  },
  {
   "cell_type": "code",
   "execution_count": 6,
   "id": "9e522f56",
   "metadata": {},
   "outputs": [
    {
     "name": "stdout",
     "output_type": "stream",
     "text": [
      "[spDataset] found 1 h5py files\n",
      "[spdataset] loading 0/1: ../../data/yamnet/processed/test_summary/embeds.h5\n"
     ]
    }
   ],
   "source": [
    "def create_evaluator(model_name):\n",
    "    \"\"\"\n",
    "    Loads an evaluator instance to use for evaluation\n",
    "    inputs:\n",
    "         model_name: name of the model log. \n",
    "    output: \n",
    "        evaluator: evaluator object (see evaluate_summary.py)\n",
    "    \"\"\"\n",
    "    summaries_output_path = os.path.join(conf.dataset_path, 'TREC', 'good_summaries.json')\n",
    "    sent_summaries_output_path = os.path.join(conf.dataset_path, 'TREC', 'sent_summaries.json')\n",
    "\n",
    "    ## Read dictionary with summaries\n",
    "    with open(summaries_output_path, 'r') as f:\n",
    "        summary_dict = json.load(f)\n",
    "    with open(sent_summaries_output_path, 'r') as f:\n",
    "        sent_summary_dict = json.load(f)\n",
    "\n",
    "    model_weights_path = os.path.join(\"../logs\", model_name, \"output\", \"full_model_weights.pt\")\n",
    "    model_config_path = os.path.join(\"../logs\", model_name, \"config.json\")\n",
    "\n",
    "    # Opening JSON file\n",
    "    f = open(model_config_path)\n",
    "    model_config = json.load(f)\n",
    "    fullcfg = from_dict(data_class=Cfg, data=model_config)\n",
    "    fullcfg.device = \"cuda\" if torch.cuda.is_available() else \"cpu\"\n",
    "    fullcfg.sp_path = conf.sp_path\n",
    "\n",
    "    # Create dataloader\n",
    "    data_loader = MMloader_summary(fullcfg, directory=conf.yamnet_processed_path, lin_sep=True)\n",
    "\n",
    "    # Load the model\n",
    "    full_model = mmModule(fullcfg)\n",
    "    full_model.load_state_dict(torch.load(model_weights_path,  map_location=fullcfg.device))        \n",
    "    full_model = full_model.to(fullcfg.device)     \n",
    "    full_model.eval()\n",
    "\n",
    "    # Get yamnet embeddings\n",
    "    summary_audio_dict = get_summ_audio(conf.summary_embed_dir)\n",
    "    sent_summary_audio_dict = get_summ_sent_audio(conf.sent_summary_embed_dir)\n",
    "\n",
    "    # Create evaluator en encode episodes and summaries\n",
    "    evaluator = summaryEvaluator(fullcfg, None, full_model, data_loader)\n",
    "    evaluator.encode_summaries(summary_dict, summary_audio_dict)\n",
    "    evaluator.encode_summaries_sentlevel(sent_summary_dict, sent_summary_audio_dict)\n",
    "    \n",
    "    return evaluator\n",
    "    \n",
    "evaluator = create_evaluator(model_5)\n"
   ]
  },
  {
   "cell_type": "code",
   "execution_count": 21,
   "id": "cf91bcf3",
   "metadata": {},
   "outputs": [],
   "source": [
    "\n",
    "def bm25_evaluation(evaluator):\n",
    "    \"\"\"\n",
    "    Performs bm25 evaluation.\n",
    "    input: \n",
    "        evaluator: evaluator object\n",
    "    output:\n",
    "        results: a dict containing evaluation results of bm25. \n",
    "    \"\"\"\n",
    "\n",
    "    targets = evaluator.sent_summ_targets\n",
    "    texts = evaluator.sent_summ_texts\n",
    "    \n",
    "    corpus = preprocess(texts)\n",
    "    bm25 = BM25Okapi(corpus)\n",
    "    k= len(evaluator.sent_summ_texts)\n",
    "\n",
    "    rank = []        \n",
    "    mrr = []\n",
    "    results = {}\n",
    "    estimates = []\n",
    "    \n",
    "    \n",
    "    for idx in range(len(targets) - 1):\n",
    "        cur_summary = texts[idx]\n",
    "        target = targets[idx].split(\"_\")[0]\n",
    "        cur_summary = preprocess([cur_summary])[0]\n",
    "\n",
    "        doc_scores = bm25.get_scores(cur_summary)\n",
    "        top_n_idx = np.argsort(doc_scores)[-k:][::-1]\n",
    "        indices = top_n_idx\n",
    "        \n",
    "        predicted_segs = list(dict.fromkeys([targets[i] for i in indices]))\n",
    "        predicted_epis = list(dict.fromkeys([i.split(\"_\")[0] for i in predicted_segs]))\n",
    " \n",
    "        estimates.append(predicted_epis.index(target))\n",
    "    \n",
    "        rank.append(predicted_epis.index(target))\n",
    "        mrr.append(1 / (predicted_epis.index(target) + 1))\n",
    "        \n",
    "    best_estimation = np.min(estimates)\n",
    "    rank.append(best_estimation)\n",
    "    mrr.append(1 / (best_estimation + 1))\n",
    "    \n",
    "    results['names'] = 'bm25'\n",
    "    results['ranks'] = np.mean(rank)\n",
    "    results['ranks_sd'] = np.std(rank)\n",
    "    results['mrr'] = np.mean(mrr)\n",
    "    results['mrr_sd'] = np.std(mrr)\n",
    "    return results\n",
    "    \n",
    "    \n",
    "results_bm25 = bm25_evaluation(evaluator)\n"
   ]
  },
  {
   "cell_type": "markdown",
   "id": "54edb4af",
   "metadata": {},
   "source": [
    "## Plot results with baseline"
   ]
  },
  {
   "cell_type": "code",
   "execution_count": 15,
   "id": "8bb46e7f",
   "metadata": {},
   "outputs": [],
   "source": [
    "def plot_results_difbaseline(r5, r15, r25, name='sim', baselines=[0.0, 0.0, 0.0, 0.0], oracle=0.85):\n",
    "    \"\"\"\n",
    "    Plots the results of the summary evaluation, baseline, and oracle\n",
    "    \"\"\"\n",
    "    fig, ax = plt.subplots()\n",
    "    fig.set_size_inches(12, 6)\n",
    "    offset = 0.3\n",
    "    width = 0.25\n",
    "\n",
    "    ax.set_title('Summary ranking', fontsize=20)\n",
    "    ax.yaxis.grid(False)\n",
    "    ax.set_ylabel(\"MRR\", fontsize=14)\n",
    "\n",
    "    ax.spines['top'].set_visible(False)\n",
    "    ax.spines['right'].set_visible(False)\n",
    "    ax.spines['bottom'].set_visible(False)\n",
    "    ax.spines['left'].set_visible(False)\n",
    "\n",
    "    names = r5['names']\n",
    "    names = ['text-text', 'text-audio', 'audio-text', 'audio-audio']\n",
    "    name_vals =np.arange(len(names))\n",
    "    ax.bar(x=name_vals + (-1*offset), height=r5['mrrs'], yerr=r5['mrrs_sd'], width=width, ecolor='black', color='salmon', alpha=0.8, label=\"5M\")\n",
    "    ax.bar(x=name_vals + (0*offset), height=r15['mrrs'], yerr=r15['mrrs_sd'], width=width, ecolor='black', color='indianred', alpha=0.8, label=\"15M\")\n",
    "    ax.bar(x=name_vals + (1*offset), height=r25['mrrs'], yerr=r25['mrrs_sd'], width=width, ecolor='black', color='darkred', alpha=0.8,  label=\"25M\")\n",
    "\n",
    "    ax.set_xticks(name_vals, names)\n",
    "    plt.xticks(fontsize=14,rotation=0)\n",
    "\n",
    "    for idx, b in enumerate(baselines):\n",
    "        by = [b] * 2\n",
    "        bx = [-0.5, 0.5]\n",
    "        bx = [b + idx for b in bx]\n",
    "        if idx == 0:\n",
    "            plt.plot(bx, by, label=\"Random (baseline)\", color='royalblue')\n",
    "        else:\n",
    "            plt.plot(bx, by, color='darkblue')\n",
    "    \n",
    "    oracle = [oracle]* (len(names) + 2)\n",
    "    x = [-0.5] + np.arange(len(names)).tolist() + [len(names)-0.5]\n",
    "    plt.plot(x, oracle, label=\"BM25 (oracle)\", color='goldenrod')\n",
    "\n",
    "    # Save the figure and show\n",
    "    plt.legend(loc='center right',  bbox_to_anchor=(1.0,0.8), fontsize=12)\n",
    "    plt.tight_layout()\n",
    "    plt.savefig('plots/summary/base_{}.pdf'.format(name))\n",
    "    plt.show()\n"
   ]
  },
  {
   "cell_type": "markdown",
   "id": "c79ac832",
   "metadata": {},
   "source": [
    "### Results GRU "
   ]
  },
  {
   "cell_type": "code",
   "execution_count": 16,
   "id": "6071d39a",
   "metadata": {},
   "outputs": [
    {
     "data": {
      "image/png": "[encoded data removed]",
      "text/plain": [
       "<Figure size 864x432 with 1 Axes>"
      ]
     },
     "metadata": {
      "needs_background": "light"
     },
     "output_type": "display_data"
    }
   ],
   "source": [
    "\n",
    "model_baseline = 'random_model'\n",
    "results_baseline = get_summary_results(model_baseline)\n",
    "\n",
    "model_5 = '5m-gru_2022-07-21_07-57-25'\n",
    "model_15 = '15m-gru_2022-07-16_17-00-32'\n",
    "model_25 = '25m-gru_2022-07-06_07-25-51'\n",
    "\n",
    "results_5 = get_summary_results(model_5)\n",
    "results_15 = get_summary_results(model_15)\n",
    "results_25 = get_summary_results(model_25)\n",
    "\n",
    "plot_results_difbaseline(results_5, results_15, results_25,'gru', results_baseline['mrrs'], results_bm25['mrr'])\n",
    "    \n",
    "    "
   ]
  },
  {
   "cell_type": "markdown",
   "id": "a4f92a7a",
   "metadata": {},
   "source": [
    "### Results MLP \n"
   ]
  },
  {
   "cell_type": "code",
   "execution_count": 17,
   "id": "979ace18",
   "metadata": {},
   "outputs": [
    {
     "data": {
      "image/png": "[encoded data removed]",
      "text/plain": [
       "<Figure size 864x432 with 1 Axes>"
      ]
     },
     "metadata": {
      "needs_background": "light"
     },
     "output_type": "display_data"
    }
   ],
   "source": [
    "\n",
    "model_baseline = 'random_model'\n",
    "results_baseline = get_summary_results(model_baseline)\n",
    "\n",
    "model_5 = '5m-mlp_2022-07-21_07-57-47'\n",
    "model_15 = '15m-mlp_2022-07-05_10-52-12'\n",
    "model_25 = '25m-mlp_2022-07-05_10-54-42'\n",
    "\n",
    "results_5 = get_summary_results(model_5)\n",
    "results_15 = get_summary_results(model_15)\n",
    "results_25 = get_summary_results(model_25)\n",
    "\n",
    "plot_results_difbaseline(results_5, results_15, results_25, name='mlp', baselines=results_baseline['mrrs'])\n",
    "    \n",
    "    "
   ]
  },
  {
   "cell_type": "markdown",
   "id": "7336bb4d",
   "metadata": {},
   "source": [
    "### Results SPH"
   ]
  },
  {
   "cell_type": "code",
   "execution_count": 18,
   "id": "c1fed781",
   "metadata": {},
   "outputs": [
    {
     "data": {
      "image/png": "[encoded data removed]",
      "text/plain": [
       "<Figure size 864x432 with 1 Axes>"
      ]
     },
     "metadata": {
      "needs_background": "light"
     },
     "output_type": "display_data"
    }
   ],
   "source": [
    "model_baseline = 'random_model'\n",
    "results_baseline = get_summary_results(model_baseline)\n",
    "\n",
    "model_5 = '5m-sph_2022-07-20_07-33-19'\n",
    "model_15 = '15m-sph_2022-07-19_18-10-51'\n",
    "model_25 = '25m-sph_2022-07-16_19-44-36'\n",
    "\n",
    "results_5 = get_summary_results(model_5)\n",
    "results_15 = get_summary_results(model_15)\n",
    "results_25 = get_summary_results(model_25)\n",
    "\n",
    "\n",
    "plot_results_difbaseline(results_5, results_15, results_25, name='sph', baselines=results_baseline['mrrs'])\n",
    "    \n",
    "    "
   ]
  },
  {
   "cell_type": "markdown",
   "id": "785e4a26",
   "metadata": {},
   "source": [
    "## Comparison natural readers en google TTS"
   ]
  },
  {
   "cell_type": "code",
   "execution_count": 19,
   "id": "fb97f225",
   "metadata": {},
   "outputs": [],
   "source": [
    "\n",
    "model_5 = '5m-gru_2022-07-21_07-57-25'\n",
    "model_15 = '15m-gru_2022-07-16_17-00-32'\n",
    "model_25 = '25m-gru_2022-07-06_07-25-51'\n",
    "\n",
    "results_5_google = get_summary_results(model_5, level='full')\n",
    "results_15_google = get_summary_results(model_15, level='full')\n",
    "results_25_google = get_summary_results(model_25, level='full')"
   ]
  },
  {
   "cell_type": "code",
   "execution_count": 20,
   "id": "121d71f4",
   "metadata": {},
   "outputs": [
    {
     "name": "stdout",
     "output_type": "stream",
     "text": [
      "{'names': ['fullsummtext2text', 'fullsummtext2audio', 'fullsummaudio2text', 'fullsummaudio2audio'], 'ranks': [67.83018867924528, 126.20754716981132, 232.03773584905662, 635.433962264151], 'ranks_sd': [13944.857956568168, 41277.824848700606, 87646.97970808117, 759365.264506942], 'mrrs': [0.2779522135359352, 0.14155882690684163, 0.06857000103386607, 0.018052631237427532], 'mrrs_sd': [0.15261745108965996, 0.07476537019407113, 0.04281561436433486, 0.004681829415199839]}\n",
      "{'names': ['sentsummtext2text', 'sentsummtext2audio', 'sentsummaudio2text', 'sentsummaudio2audio'], 'ranks': [24.58490566037736, 281.4339622641509, 659.5471698113207, 3006.698113207547], 'ranks_sd': [5977.865432538272, 450728.01922392304, 1322546.3609825564, 60618067.79565682], 'mrrs': [0.5920676491918817, 0.10262947745121388, 0.05463488171371392, 0.0398402075886129], 'mrrs_sd': [0.17995894753749328, 0.053174010053345974, 0.0009375937063343087, 0.0012057788384616875]}\n"
     ]
    }
   ],
   "source": [
    "print(results_25_google)\n",
    "print(results_25)"
   ]
  },
  {
   "cell_type": "code",
   "execution_count": null,
   "id": "317ea224",
   "metadata": {},
   "outputs": [],
   "source": []
  }
 ],
 "metadata": {
  "kernelspec": {
   "display_name": "Python [conda env:thesis]",
   "language": "python",
   "name": "conda-env-thesis-py"
  },
  "language_info": {
   "codemirror_mode": {
    "name": "ipython",
    "version": 3
   },
   "file_extension": ".py",
   "mimetype": "text/x-python",
   "name": "python",
   "nbconvert_exporter": "python",
   "pygments_lexer": "ipython3",
   "version": "3.9.7"
  }
 },
 "nbformat": 4,
 "nbformat_minor": 5
}
